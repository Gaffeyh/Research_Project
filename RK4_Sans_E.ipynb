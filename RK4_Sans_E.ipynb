{
 "cells": [
  {
   "cell_type": "code",
   "execution_count": null,
   "id": "8197b205",
   "metadata": {},
   "outputs": [],
   "source": [
    "import numpy as np\n",
    "import matplotlib.pyplot as plt"
   ]
  },
  {
   "cell_type": "code",
   "execution_count": null,
   "id": "92ded3ca",
   "metadata": {},
   "outputs": [],
   "source": [
    "c = -100\n",
    "## ^ for posterity\n",
    "\n",
    "def F(t):\n",
    "    # our non linear component\n",
    "    return np.sin(t)\n",
    "\n",
    "def timestep(u_n, I, h):\n",
    "    # u_n is the previous time step\n",
    "    # I is the integral of the non linear part\n",
    "    # h is out time step width\n",
    "    return u_n*np.exp(c*h) + I\n",
    "\n",
    "#Now using the rk4 method\n",
    "def I_RK4(t,h):\n",
    "    f1 = F(t)\n",
    "    f2 = F(t + h/2)\n",
    "    f3 = F(t + h/2)\n",
    "    #Note: because our function F is not dependent on U our f2 = f3\n",
    "    #      normally f2 = F(u_n + f1*h, t+h/2) , f3 = F(u_n + f2*h, t+h/2)\n",
    "    f4 = F(t+h)\n",
    "\n",
    "    part1 = f1*(-4 -h*c +np.exp(c*h)*(4 -3*h*c +(h*c)**2))\n",
    "\n",
    "    part2 = 2*(f2 + f3)*(2 +h*c +np.exp(c*h)*(-2 +h*c))\n",
    "\n",
    "    part3 = f4*(-4 -3*h*c -(h*c)**2 + np.exp(c*h)*(4 -h*c))\n",
    "\n",
    "    return  (part1 + part2 + part3)/((h**2)*(c**3))\n",
    "    "
   ]
  }
 ],
 "metadata": {
  "language_info": {
   "name": "python"
  }
 },
 "nbformat": 4,
 "nbformat_minor": 5
}
